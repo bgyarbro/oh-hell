{
 "cells": [
  {
   "cell_type": "code",
   "execution_count": 1,
   "metadata": {},
   "outputs": [],
   "source": [
    "from deck_of_cards import deck_of_cards\n",
    "import pandas as pd\n",
    "import numpy as np\n",
    "import seaborn as sns\n",
    "%matplotlib inline"
   ]
  },
  {
   "cell_type": "markdown",
   "metadata": {},
   "source": [
    "- Card ranks: rank 0 represents 2, rank 13 represents Ace\n",
    "- Suit number is arbitrary"
   ]
  },
  {
   "cell_type": "code",
   "execution_count": 2,
   "metadata": {},
   "outputs": [],
   "source": [
    "winning_player = []\n",
    "trump = []\n",
    "p1_suit = []\n",
    "p1_rank = []\n",
    "p2_suit = []\n",
    "p2_rank = []\n",
    "p3_suit = []\n",
    "p3_rank = []\n",
    "p4_suit = []\n",
    "p4_rank = []"
   ]
  },
  {
   "cell_type": "code",
   "execution_count": 3,
   "metadata": {},
   "outputs": [],
   "source": [
    "def play_round():\n",
    "    \n",
    "    # initialize the deck\n",
    "    deck_obj = deck_of_cards.DeckOfCards()\n",
    "    deck_obj.shuffle_deck()\n",
    "    \n",
    "    # deal one card to each player\n",
    "    p1_card = deck_obj.give_random_card()\n",
    "    p2_card = deck_obj.give_random_card()\n",
    "    p3_card = deck_obj.give_random_card()\n",
    "    p4_card = deck_obj.give_random_card()\n",
    "    \n",
    "    # flip the top card of the deck to determine the trump suit\n",
    "    # notice, this is different than choosing a random number 1-4\n",
    "    trump_card = deck_obj.give_random_card()\n",
    "    trump_suit = trump_card.suit # get the suit from the card object\n",
    "    \n",
    "    # make list of players cards\n",
    "    cards = [p1_card, p2_card, p3_card, p4_card]\n",
    "    # get suits in list\n",
    "    suits = [card.suit for card in cards]\n",
    "    # get ranks in list\n",
    "    ranks = [card.rank for card in cards]\n",
    "    \n",
    "    # make a dataframe of the players and cards\n",
    "    df = pd.DataFrame({'player':['p1', 'p2', 'p3', 'p4'],\n",
    "                           'suit':suits,\n",
    "                           'ranks':ranks})\n",
    "\n",
    "    df['trump'] = trump_suit\n",
    "\n",
    "    #print(df)\n",
    "    \n",
    "    # first case if at least one player has a card in trump suit\n",
    "    if (df.suit == df.trump).sum() != 0:\n",
    "        # get dataframe of only players with trump cards\n",
    "        trump_players = df.loc[df.suit == trump_suit,]\n",
    "        # winner is player with trump card of highest rank, adjusted for index 0\n",
    "        winner = trump_players.ranks.idxmax() + 1\n",
    "    # other case is no player has trump\n",
    "    else:\n",
    "        # we only care about players with cards the same suit as player 1\n",
    "        p1_suit_players = df[df.suit == p1_card.suit]\n",
    "        # winner is player with the highest rank card in the suit of player 1\n",
    "        winner = p1_suit_players.ranks.idxmax() + 1\n",
    "\n",
    "        \n",
    "    winning_player.append(winner)\n",
    "    trump.append(trump_suit)\n",
    "    p1_suit.append(suits[0])\n",
    "    p1_rank.append(ranks[0])\n",
    "    p2_suit.append(suits[1])\n",
    "    p2_rank.append(ranks[1])\n",
    "    p3_suit.append(suits[2])\n",
    "    p3_rank.append(ranks[2])\n",
    "    p4_suit.append(suits[3])\n",
    "    p4_rank.append(ranks[3])\n",
    "    \n",
    "    if winner == 1:\n",
    "        return 1\n",
    "    else:\n",
    "        return 0"
   ]
  },
  {
   "cell_type": "code",
   "execution_count": 36,
   "metadata": {},
   "outputs": [
    {
     "name": "stdout",
     "output_type": "stream",
     "text": [
      "1.0\n",
      "2.0\n",
      "3.0\n",
      "4.0\n",
      "5.0\n",
      "6.0\n",
      "7.0\n",
      "8.0\n",
      "9.0\n",
      "10.0\n",
      "11.0\n",
      "12.0\n",
      "13.0\n",
      "14.0\n",
      "15.0\n",
      "16.0\n",
      "17.0\n",
      "18.0\n",
      "19.0\n",
      "20.0\n",
      "21.0\n",
      "22.0\n",
      "23.0\n",
      "24.0\n",
      "25.0\n",
      "26.0\n",
      "27.0\n",
      "28.0\n",
      "29.0\n",
      "30.0\n",
      "31.0\n",
      "32.0\n",
      "33.0\n",
      "34.0\n",
      "35.0\n",
      "36.0\n",
      "37.0\n",
      "38.0\n",
      "39.0\n",
      "40.0\n",
      "41.0\n",
      "42.0\n",
      "43.0\n",
      "44.0\n",
      "45.0\n",
      "46.0\n",
      "47.0\n",
      "48.0\n",
      "49.0\n",
      "50.0\n",
      "51.0\n",
      "52.0\n",
      "53.0\n",
      "54.0\n",
      "55.0\n",
      "56.0\n",
      "57.0\n",
      "58.0\n",
      "59.0\n",
      "60.0\n",
      "61.0\n",
      "62.0\n",
      "63.0\n",
      "64.0\n",
      "65.0\n",
      "66.0\n",
      "67.0\n",
      "68.0\n",
      "69.0\n",
      "70.0\n",
      "71.0\n",
      "72.0\n",
      "73.0\n",
      "74.0\n",
      "75.0\n",
      "76.0\n",
      "77.0\n",
      "78.0\n",
      "79.0\n",
      "80.0\n",
      "81.0\n",
      "82.0\n",
      "83.0\n",
      "84.0\n",
      "85.0\n",
      "86.0\n",
      "87.0\n",
      "88.0\n",
      "89.0\n",
      "90.0\n",
      "91.0\n",
      "92.0\n",
      "93.0\n",
      "94.0\n",
      "95.0\n",
      "96.0\n",
      "97.0\n",
      "98.0\n",
      "99.0\n",
      "100.0\n",
      "Player 1 Win Percentage\n",
      "0.37131\n"
     ]
    }
   ],
   "source": [
    "i = 0\n",
    "wins = 0\n",
    "n = 100000\n",
    "while i < n:\n",
    "    wins += play_round()\n",
    "    i += 1\n",
    "    if i % (n/100) == 0:\n",
    "        print(i/(n/100))\n",
    "\n",
    "print(\"Player 1 Win Percentage\")\n",
    "print(wins / n)"
   ]
  },
  {
   "cell_type": "code",
   "execution_count": 37,
   "metadata": {},
   "outputs": [],
   "source": [
    "df = pd.DataFrame({\n",
    "    'winning_player':winning_player,\n",
    "    'trump':trump,\n",
    "    'p1_suit':p1_suit,\n",
    "    'p1_rank':p1_rank,\n",
    "    'p2_suit':p2_suit,\n",
    "    'p2_rank':p2_rank,\n",
    "    'p3_suit':p3_suit,\n",
    "    'p3_rank':p3_rank,\n",
    "    'p4_suit':p4_suit,\n",
    "    'p4_rank':p4_rank,\n",
    "})"
   ]
  },
  {
   "cell_type": "code",
   "execution_count": 38,
   "metadata": {},
   "outputs": [
    {
     "data": {
      "text/html": [
       "<div>\n",
       "<style scoped>\n",
       "    .dataframe tbody tr th:only-of-type {\n",
       "        vertical-align: middle;\n",
       "    }\n",
       "\n",
       "    .dataframe tbody tr th {\n",
       "        vertical-align: top;\n",
       "    }\n",
       "\n",
       "    .dataframe thead th {\n",
       "        text-align: right;\n",
       "    }\n",
       "</style>\n",
       "<table border=\"1\" class=\"dataframe\">\n",
       "  <thead>\n",
       "    <tr style=\"text-align: right;\">\n",
       "      <th></th>\n",
       "      <th>winning_player</th>\n",
       "      <th>trump</th>\n",
       "      <th>p1_suit</th>\n",
       "      <th>p1_rank</th>\n",
       "      <th>p2_suit</th>\n",
       "      <th>p2_rank</th>\n",
       "      <th>p3_suit</th>\n",
       "      <th>p3_rank</th>\n",
       "      <th>p4_suit</th>\n",
       "      <th>p4_rank</th>\n",
       "    </tr>\n",
       "  </thead>\n",
       "  <tbody>\n",
       "    <tr>\n",
       "      <th>0</th>\n",
       "      <td>2</td>\n",
       "      <td>0</td>\n",
       "      <td>3</td>\n",
       "      <td>9</td>\n",
       "      <td>0</td>\n",
       "      <td>4</td>\n",
       "      <td>0</td>\n",
       "      <td>3</td>\n",
       "      <td>2</td>\n",
       "      <td>13</td>\n",
       "    </tr>\n",
       "    <tr>\n",
       "      <th>1</th>\n",
       "      <td>1</td>\n",
       "      <td>0</td>\n",
       "      <td>0</td>\n",
       "      <td>13</td>\n",
       "      <td>0</td>\n",
       "      <td>10</td>\n",
       "      <td>1</td>\n",
       "      <td>4</td>\n",
       "      <td>2</td>\n",
       "      <td>12</td>\n",
       "    </tr>\n",
       "    <tr>\n",
       "      <th>2</th>\n",
       "      <td>4</td>\n",
       "      <td>1</td>\n",
       "      <td>2</td>\n",
       "      <td>3</td>\n",
       "      <td>3</td>\n",
       "      <td>12</td>\n",
       "      <td>0</td>\n",
       "      <td>11</td>\n",
       "      <td>2</td>\n",
       "      <td>8</td>\n",
       "    </tr>\n",
       "    <tr>\n",
       "      <th>3</th>\n",
       "      <td>2</td>\n",
       "      <td>3</td>\n",
       "      <td>2</td>\n",
       "      <td>2</td>\n",
       "      <td>3</td>\n",
       "      <td>3</td>\n",
       "      <td>1</td>\n",
       "      <td>7</td>\n",
       "      <td>0</td>\n",
       "      <td>13</td>\n",
       "    </tr>\n",
       "    <tr>\n",
       "      <th>4</th>\n",
       "      <td>3</td>\n",
       "      <td>0</td>\n",
       "      <td>1</td>\n",
       "      <td>11</td>\n",
       "      <td>1</td>\n",
       "      <td>12</td>\n",
       "      <td>0</td>\n",
       "      <td>4</td>\n",
       "      <td>3</td>\n",
       "      <td>6</td>\n",
       "    </tr>\n",
       "    <tr>\n",
       "      <th>5</th>\n",
       "      <td>4</td>\n",
       "      <td>2</td>\n",
       "      <td>2</td>\n",
       "      <td>7</td>\n",
       "      <td>3</td>\n",
       "      <td>8</td>\n",
       "      <td>0</td>\n",
       "      <td>1</td>\n",
       "      <td>2</td>\n",
       "      <td>8</td>\n",
       "    </tr>\n",
       "    <tr>\n",
       "      <th>6</th>\n",
       "      <td>1</td>\n",
       "      <td>1</td>\n",
       "      <td>2</td>\n",
       "      <td>4</td>\n",
       "      <td>0</td>\n",
       "      <td>6</td>\n",
       "      <td>2</td>\n",
       "      <td>1</td>\n",
       "      <td>3</td>\n",
       "      <td>12</td>\n",
       "    </tr>\n",
       "    <tr>\n",
       "      <th>7</th>\n",
       "      <td>1</td>\n",
       "      <td>3</td>\n",
       "      <td>3</td>\n",
       "      <td>1</td>\n",
       "      <td>1</td>\n",
       "      <td>8</td>\n",
       "      <td>1</td>\n",
       "      <td>13</td>\n",
       "      <td>2</td>\n",
       "      <td>2</td>\n",
       "    </tr>\n",
       "    <tr>\n",
       "      <th>8</th>\n",
       "      <td>4</td>\n",
       "      <td>3</td>\n",
       "      <td>0</td>\n",
       "      <td>12</td>\n",
       "      <td>1</td>\n",
       "      <td>2</td>\n",
       "      <td>2</td>\n",
       "      <td>2</td>\n",
       "      <td>3</td>\n",
       "      <td>8</td>\n",
       "    </tr>\n",
       "    <tr>\n",
       "      <th>9</th>\n",
       "      <td>3</td>\n",
       "      <td>0</td>\n",
       "      <td>3</td>\n",
       "      <td>3</td>\n",
       "      <td>3</td>\n",
       "      <td>2</td>\n",
       "      <td>0</td>\n",
       "      <td>13</td>\n",
       "      <td>0</td>\n",
       "      <td>8</td>\n",
       "    </tr>\n",
       "  </tbody>\n",
       "</table>\n",
       "</div>"
      ],
      "text/plain": [
       "   winning_player  trump  p1_suit  p1_rank  p2_suit  p2_rank  p3_suit  \\\n",
       "0               2      0        3        9        0        4        0   \n",
       "1               1      0        0       13        0       10        1   \n",
       "2               4      1        2        3        3       12        0   \n",
       "3               2      3        2        2        3        3        1   \n",
       "4               3      0        1       11        1       12        0   \n",
       "5               4      2        2        7        3        8        0   \n",
       "6               1      1        2        4        0        6        2   \n",
       "7               1      3        3        1        1        8        1   \n",
       "8               4      3        0       12        1        2        2   \n",
       "9               3      0        3        3        3        2        0   \n",
       "\n",
       "   p3_rank  p4_suit  p4_rank  \n",
       "0        3        2       13  \n",
       "1        4        2       12  \n",
       "2       11        2        8  \n",
       "3        7        0       13  \n",
       "4        4        3        6  \n",
       "5        1        2        8  \n",
       "6        1        3       12  \n",
       "7       13        2        2  \n",
       "8        2        3        8  \n",
       "9       13        0        8  "
      ]
     },
     "execution_count": 38,
     "metadata": {},
     "output_type": "execute_result"
    }
   ],
   "source": [
    "df.head(10)"
   ]
  },
  {
   "cell_type": "code",
   "execution_count": 39,
   "metadata": {},
   "outputs": [],
   "source": [
    "# get subset of Player 1 suit not trump and player 1 card is a 2\n",
    "subset = df[(df.p1_suit != df.trump) & (df.p1_rank == 1)]"
   ]
  },
  {
   "cell_type": "code",
   "execution_count": 40,
   "metadata": {},
   "outputs": [
    {
     "data": {
      "text/plain": [
       "0.13241051454138703"
      ]
     },
     "execution_count": 40,
     "metadata": {},
     "output_type": "execute_result"
    }
   ],
   "source": [
    "len(subset[subset.winning_player == 1]) / len(subset)"
   ]
  },
  {
   "cell_type": "code",
   "execution_count": 41,
   "metadata": {},
   "outputs": [
    {
     "data": {
      "text/plain": [
       "7152"
      ]
     },
     "execution_count": 41,
     "metadata": {},
     "output_type": "execute_result"
    }
   ],
   "source": [
    "len(subset)"
   ]
  },
  {
   "cell_type": "code",
   "execution_count": 42,
   "metadata": {},
   "outputs": [],
   "source": [
    "# helper functions to calculate win percentages of player 1 having a given card\n",
    "def calculate_win_percent(card):\n",
    "    subset = df[(df.p1_suit != df.trump) & (df.p1_rank == card)]\n",
    "    return len(subset[subset.winning_player == 1]) / len(subset)\n",
    "\n",
    "\n",
    "def calculate_win_percent_trump(card):\n",
    "    subset = df[(df.p1_suit == df.trump) & (df.p1_rank == card)]\n",
    "    return len(subset[subset.winning_player == 1]) / len(subset)"
   ]
  },
  {
   "cell_type": "code",
   "execution_count": 43,
   "metadata": {},
   "outputs": [
    {
     "data": {
      "text/plain": [
       "0.33977160580854365"
      ]
     },
     "execution_count": 43,
     "metadata": {},
     "output_type": "execute_result"
    }
   ],
   "source": [
    "calculate_win_percent(10)"
   ]
  },
  {
   "cell_type": "code",
   "execution_count": 44,
   "metadata": {},
   "outputs": [
    {
     "data": {
      "text/plain": [
       "0.4723127035830619"
      ]
     },
     "execution_count": 44,
     "metadata": {},
     "output_type": "execute_result"
    }
   ],
   "source": [
    "calculate_win_percent_trump(1)"
   ]
  },
  {
   "cell_type": "code",
   "execution_count": 45,
   "metadata": {},
   "outputs": [
    {
     "data": {
      "text/plain": [
       "0.5233688107357705"
      ]
     },
     "execution_count": 45,
     "metadata": {},
     "output_type": "execute_result"
    }
   ],
   "source": [
    "calculate_win_percent_trump(2)"
   ]
  },
  {
   "cell_type": "code",
   "execution_count": 46,
   "metadata": {},
   "outputs": [],
   "source": [
    "y = [calculate_win_percent(card) for card in range(1,14)]\n",
    "yt = [calculate_win_percent_trump(card) for card in range(1,14)]"
   ]
  },
  {
   "cell_type": "code",
   "execution_count": 47,
   "metadata": {},
   "outputs": [],
   "source": [
    "x = list(range(1,14))\n",
    "\n",
    "#y.extend(yt)"
   ]
  },
  {
   "cell_type": "code",
   "execution_count": 48,
   "metadata": {},
   "outputs": [],
   "source": [
    "x = np.array(x)\n",
    "y = np.array(y)"
   ]
  },
  {
   "cell_type": "code",
   "execution_count": 49,
   "metadata": {},
   "outputs": [
    {
     "data": {
      "text/plain": [
       "<AxesSubplot:>"
      ]
     },
     "execution_count": 49,
     "metadata": {},
     "output_type": "execute_result"
    },
    {
     "data": {
      "image/png": "[encoded data removed]",
      "text/plain": [
       "<Figure size 432x288 with 1 Axes>"
      ]
     },
     "metadata": {
      "needs_background": "light"
     },
     "output_type": "display_data"
    }
   ],
   "source": [
    "sns.lineplot(x = x, y = y)"
   ]
  },
  {
   "cell_type": "code",
   "execution_count": 50,
   "metadata": {},
   "outputs": [],
   "source": [
    "yt = np.array(yt)"
   ]
  },
  {
   "cell_type": "code",
   "execution_count": 51,
   "metadata": {},
   "outputs": [
    {
     "data": {
      "text/plain": [
       "<AxesSubplot:>"
      ]
     },
     "execution_count": 51,
     "metadata": {},
     "output_type": "execute_result"
    },
    {
     "data": {
      "image/png": "[encoded data removed]",
      "text/plain": [
       "<Figure size 432x288 with 1 Axes>"
      ]
     },
     "metadata": {
      "needs_background": "light"
     },
     "output_type": "display_data"
    }
   ],
   "source": [
    "sns.lineplot(x=x, y=yt)"
   ]
  },
  {
   "cell_type": "code",
   "execution_count": 52,
   "metadata": {},
   "outputs": [],
   "source": [
    "y_all = list(y)\n",
    "y_all.extend(yt)"
   ]
  },
  {
   "cell_type": "code",
   "execution_count": 53,
   "metadata": {},
   "outputs": [
    {
     "data": {
      "text/plain": [
       "26"
      ]
     },
     "execution_count": 53,
     "metadata": {},
     "output_type": "execute_result"
    }
   ],
   "source": [
    "len(y_all)"
   ]
  },
  {
   "cell_type": "code",
   "execution_count": 54,
   "metadata": {},
   "outputs": [
    {
     "data": {
      "text/plain": [
       "<AxesSubplot:>"
      ]
     },
     "execution_count": 54,
     "metadata": {},
     "output_type": "execute_result"
    },
    {
     "data": {
      "image/png": "[encoded data removed]",
      "text/plain": [
       "<Figure size 432x288 with 1 Axes>"
      ]
     },
     "metadata": {
      "needs_background": "light"
     },
     "output_type": "display_data"
    }
   ],
   "source": [
    "# plot all cards win percent for player 1\n",
    "sns.lineplot(x = np.arange(26), y = y_all)"
   ]
  },
  {
   "cell_type": "code",
   "execution_count": 55,
   "metadata": {},
   "outputs": [
    {
     "data": {
      "text/plain": [
       "0.541301338255653"
      ]
     },
     "execution_count": 55,
     "metadata": {},
     "output_type": "execute_result"
    }
   ],
   "source": [
    "calculate_win_percent_trump(3)"
   ]
  },
  {
   "cell_type": "code",
   "execution_count": 56,
   "metadata": {},
   "outputs": [
    {
     "data": {
      "text/plain": [
       "0.5233688107357705"
      ]
     },
     "execution_count": 56,
     "metadata": {},
     "output_type": "execute_result"
    }
   ],
   "source": [
    "calculate_win_percent_trump(2)"
   ]
  },
  {
   "cell_type": "code",
   "execution_count": 57,
   "metadata": {},
   "outputs": [
    {
     "data": {
      "text/plain": [
       "0.4723127035830619"
      ]
     },
     "execution_count": 57,
     "metadata": {},
     "output_type": "execute_result"
    }
   ],
   "source": [
    "calculate_win_percent_trump(1)"
   ]
  },
  {
   "cell_type": "code",
   "execution_count": 58,
   "metadata": {},
   "outputs": [
    {
     "name": "stdout",
     "output_type": "stream",
     "text": [
      "0.37131 +/- 0.0029946265483199066\n"
     ]
    }
   ],
   "source": [
    "# confidence interval on win percentage for player 1\n",
    "\n",
    "winp = wins/n\n",
    "print(str(winp) + \" +/- \" + str( 1.96 * np.sqrt(n*winp*(1-winp)) / n))"
   ]
  },
  {
   "cell_type": "code",
   "execution_count": 62,
   "metadata": {},
   "outputs": [
    {
     "data": {
      "text/plain": [
       "0.46627551020408164"
      ]
     },
     "execution_count": 62,
     "metadata": {},
     "output_type": "execute_result"
    }
   ],
   "source": [
    "# true probability of player 1 winning with 2 of trump\n",
    "# 52 card deck, player 1 has 2, trump card flipped, leaves 11 trumps out of 50 cards,\n",
    "# probility that any player has trump higher than 2\n",
    "# ==\n",
    "# 1 - probablity(players 2-4 have no trumps)\n",
    "# order matters, trump is chosen after cards dealt to players\n",
    "# so the below math does not work exactly\n",
    "# need probability(player 1 has 2 and trump chosen is player 1 suit and no other player has that suit)\n",
    "\n",
    "39/50 * 38/49 * 37/48"
   ]
  },
  {
   "cell_type": "markdown",
   "metadata": {},
   "source": [
    "- This probability calculation should be more complicated\n",
    "    - The trump suit is less likely to be a suit of any of the cards dealtf"
   ]
  },
  {
   "cell_type": "code",
   "execution_count": 63,
   "metadata": {},
   "outputs": [
    {
     "data": {
      "text/plain": [
       "0.4723127035830619"
      ]
     },
     "execution_count": 63,
     "metadata": {},
     "output_type": "execute_result"
    }
   ],
   "source": [
    "p = calculate_win_percent_trump(1)\n",
    "p"
   ]
  },
  {
   "cell_type": "code",
   "execution_count": 64,
   "metadata": {},
   "outputs": [
    {
     "name": "stdout",
     "output_type": "stream",
     "text": [
      "0.4723 +/- 0.0039\n"
     ]
    }
   ],
   "source": [
    "print(str(round(p, 4)) + \" +/- \" + str(round(np.sqrt(n*p*(1-p)) * 2.5 / n, 4)))"
   ]
  },
  {
   "cell_type": "code",
   "execution_count": null,
   "metadata": {},
   "outputs": [],
   "source": []
  }
 ],
 "metadata": {
  "kernelspec": {
   "display_name": "Python 3",
   "language": "python",
   "name": "python3"
  },
  "language_info": {
   "codemirror_mode": {
    "name": "ipython",
    "version": 3
   },
   "file_extension": ".py",
   "mimetype": "text/x-python",
   "name": "python",
   "nbconvert_exporter": "python",
   "pygments_lexer": "ipython3",
   "version": "3.8.5"
  }
 },
 "nbformat": 4,
 "nbformat_minor": 4
}
