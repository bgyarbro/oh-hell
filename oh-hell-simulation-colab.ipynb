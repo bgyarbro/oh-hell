{
  "cells": [
    {
      "cell_type": "markdown",
      "metadata": {
        "id": "view-in-github",
        "colab_type": "text"
      },
      "source": [
        "<a href=\"https://colab.research.google.com/github/bgyarbro/oh-hell/blob/main/oh-hell-simulation-colab.ipynb\" target=\"_parent\"><img src=\"https://colab.research.google.com/assets/colab-badge.svg\" alt=\"Open In Colab\"/></a>"
      ]
    },
    {
      "cell_type": "code",
      "source": [
        "!pip install deck-of-cards"
      ],
      "metadata": {
        "id": "9p187OEPTelX",
        "outputId": "7728e7ef-9d95-4b04-d2a1-cb40731d5df8",
        "colab": {
          "base_uri": "https://localhost:8080/"
        }
      },
      "execution_count": 2,
      "outputs": [
        {
          "output_type": "stream",
          "name": "stdout",
          "text": [
            "Collecting deck-of-cards\n",
            "  Downloading deck_of_cards-0.0.10-py3-none-any.whl (7.0 kB)\n",
            "Installing collected packages: deck-of-cards\n",
            "Successfully installed deck-of-cards-0.0.10\n"
          ]
        }
      ]
    },
    {
      "cell_type": "code",
      "execution_count": 3,
      "metadata": {
        "id": "C9-Jmk4tTa_S"
      },
      "outputs": [],
      "source": [
        "from deck_of_cards import deck_of_cards\n",
        "import pandas as pd\n",
        "import numpy as np\n",
        "import seaborn as sns\n",
        "%matplotlib inline"
      ]
    },
    {
      "cell_type": "markdown",
      "metadata": {
        "id": "V8TiEKxFTa_T"
      },
      "source": [
        "- Card ranks: rank 0 represents 2, rank 13 represents Ace\n",
        "- Suit number is arbitrary"
      ]
    },
    {
      "cell_type": "code",
      "execution_count": 4,
      "metadata": {
        "id": "DuE_bsZbTa_T"
      },
      "outputs": [],
      "source": [
        "winning_player = []\n",
        "trump = []\n",
        "p1_suit = []\n",
        "p1_rank = []\n",
        "p2_suit = []\n",
        "p2_rank = []\n",
        "p3_suit = []\n",
        "p3_rank = []\n",
        "p4_suit = []\n",
        "p4_rank = []"
      ]
    },
    {
      "cell_type": "code",
      "execution_count": 5,
      "metadata": {
        "id": "IT5p5LcdTa_U"
      },
      "outputs": [],
      "source": [
        "def play_round():\n",
        "    \n",
        "    # initialize the deck\n",
        "    deck_obj = deck_of_cards.DeckOfCards()\n",
        "    deck_obj.shuffle_deck()\n",
        "    \n",
        "    # deal one card to each player\n",
        "    p1_card = deck_obj.give_random_card()\n",
        "    p2_card = deck_obj.give_random_card()\n",
        "    p3_card = deck_obj.give_random_card()\n",
        "    p4_card = deck_obj.give_random_card()\n",
        "    \n",
        "    # flip the top card of the deck to determine the trump suit\n",
        "    # notice, this is different than choosing a random number 1-4\n",
        "    trump_card = deck_obj.give_random_card()\n",
        "    trump_suit = trump_card.suit # get the suit from the card object\n",
        "    \n",
        "    # make list of players cards\n",
        "    cards = [p1_card, p2_card, p3_card, p4_card]\n",
        "    # get suits in list\n",
        "    suits = [card.suit for card in cards]\n",
        "    # get ranks in list\n",
        "    ranks = [card.rank for card in cards]\n",
        "    \n",
        "    # make a dataframe of the players and cards\n",
        "    df = pd.DataFrame({'player':['p1', 'p2', 'p3', 'p4'],\n",
        "                           'suit':suits,\n",
        "                           'ranks':ranks})\n",
        "\n",
        "    df['trump'] = trump_suit\n",
        "\n",
        "    #print(df)\n",
        "    \n",
        "    # first case if at least one player has a card in trump suit\n",
        "    if (df.suit == df.trump).sum() != 0:\n",
        "        # get dataframe of only players with trump cards\n",
        "        trump_players = df.loc[df.suit == trump_suit,]\n",
        "        # winner is player with trump card of highest rank, adjusted for index 0\n",
        "        winner = trump_players.ranks.idxmax() + 1\n",
        "    # other case is no player has trump\n",
        "    else:\n",
        "        # we only care about players with cards the same suit as player 1\n",
        "        p1_suit_players = df[df.suit == p1_card.suit]\n",
        "        # winner is player with the highest rank card in the suit of player 1\n",
        "        winner = p1_suit_players.ranks.idxmax() + 1\n",
        "\n",
        "        \n",
        "    winning_player.append(winner)\n",
        "    trump.append(trump_suit)\n",
        "    p1_suit.append(suits[0])\n",
        "    p1_rank.append(ranks[0])\n",
        "    p2_suit.append(suits[1])\n",
        "    p2_rank.append(ranks[1])\n",
        "    p3_suit.append(suits[2])\n",
        "    p3_rank.append(ranks[2])\n",
        "    p4_suit.append(suits[3])\n",
        "    p4_rank.append(ranks[3])\n",
        "    \n",
        "    if winner == 1:\n",
        "        return 1\n",
        "    else:\n",
        "        return 0"
      ]
    },
    {
      "cell_type": "code",
      "execution_count": 6,
      "metadata": {
        "id": "m4CSglnrTa_U",
        "outputId": "6837b60e-f905-4028-e744-9f33529f75a5",
        "colab": {
          "base_uri": "https://localhost:8080/"
        }
      },
      "outputs": [
        {
          "output_type": "stream",
          "name": "stdout",
          "text": [
            "1.0\n",
            "2.0\n",
            "3.0\n",
            "4.0\n",
            "5.0\n",
            "6.0\n",
            "7.0\n",
            "8.0\n",
            "9.0\n",
            "10.0\n",
            "11.0\n",
            "12.0\n",
            "13.0\n",
            "14.0\n",
            "15.0\n",
            "16.0\n",
            "17.0\n",
            "18.0\n",
            "19.0\n",
            "20.0\n",
            "21.0\n",
            "22.0\n",
            "23.0\n",
            "24.0\n",
            "25.0\n",
            "26.0\n",
            "27.0\n",
            "28.0\n",
            "29.0\n",
            "30.0\n",
            "31.0\n",
            "32.0\n",
            "33.0\n",
            "34.0\n",
            "35.0\n",
            "36.0\n",
            "37.0\n",
            "38.0\n",
            "39.0\n",
            "40.0\n",
            "41.0\n",
            "42.0\n",
            "43.0\n",
            "44.0\n",
            "45.0\n",
            "46.0\n",
            "47.0\n",
            "48.0\n",
            "49.0\n",
            "50.0\n",
            "51.0\n",
            "52.0\n",
            "53.0\n",
            "54.0\n",
            "55.0\n",
            "56.0\n",
            "57.0\n",
            "58.0\n",
            "59.0\n",
            "60.0\n",
            "61.0\n",
            "62.0\n",
            "63.0\n",
            "64.0\n",
            "65.0\n",
            "66.0\n",
            "67.0\n",
            "68.0\n",
            "69.0\n",
            "70.0\n",
            "71.0\n",
            "72.0\n",
            "73.0\n",
            "74.0\n",
            "75.0\n",
            "76.0\n",
            "77.0\n",
            "78.0\n",
            "79.0\n",
            "80.0\n",
            "81.0\n",
            "82.0\n",
            "83.0\n",
            "84.0\n",
            "85.0\n",
            "86.0\n",
            "87.0\n",
            "88.0\n",
            "89.0\n",
            "90.0\n",
            "91.0\n",
            "92.0\n",
            "93.0\n",
            "94.0\n",
            "95.0\n",
            "96.0\n",
            "97.0\n",
            "98.0\n",
            "99.0\n",
            "100.0\n",
            "Player 1 Win Percentage\n",
            "0.37204\n"
          ]
        }
      ],
      "source": [
        "i = 0\n",
        "wins = 0\n",
        "n = 100000\n",
        "while i < n:\n",
        "    wins += play_round()\n",
        "    i += 1\n",
        "    if i % (n/100) == 0:\n",
        "        print(i/(n/100))\n",
        "\n",
        "print(\"Player 1 Win Percentage\")\n",
        "print(wins / n)"
      ]
    },
    {
      "cell_type": "code",
      "execution_count": 7,
      "metadata": {
        "id": "LiQpIQobTa_V"
      },
      "outputs": [],
      "source": [
        "df = pd.DataFrame({\n",
        "    'winning_player':winning_player,\n",
        "    'trump':trump,\n",
        "    'p1_suit':p1_suit,\n",
        "    'p1_rank':p1_rank,\n",
        "    'p2_suit':p2_suit,\n",
        "    'p2_rank':p2_rank,\n",
        "    'p3_suit':p3_suit,\n",
        "    'p3_rank':p3_rank,\n",
        "    'p4_suit':p4_suit,\n",
        "    'p4_rank':p4_rank,\n",
        "})"
      ]
    },
    {
      "cell_type": "code",
      "execution_count": 8,
      "metadata": {
        "id": "ueaIIKx7Ta_V",
        "outputId": "880b3bfb-401b-4f88-8864-17a12acc836d",
        "colab": {
          "base_uri": "https://localhost:8080/",
          "height": 359
        }
      },
      "outputs": [
        {
          "output_type": "execute_result",
          "data": {
            "text/plain": [
              "   winning_player  trump  p1_suit  p1_rank  p2_suit  p2_rank  p3_suit  \\\n",
              "0               3      3        0        7        1        3        0   \n",
              "1               4      3        2        5        0        5        2   \n",
              "2               4      3        2       11        3        1        3   \n",
              "3               1      1        0       12        3        4        2   \n",
              "4               3      0        1       13        3       12        0   \n",
              "5               4      3        0       13        0        9        1   \n",
              "6               3      2        3       11        1        7        2   \n",
              "7               1      0        3       11        3       10        2   \n",
              "8               1      2        0        8        1        6        1   \n",
              "9               1      1        2        5        0       13        2   \n",
              "\n",
              "   p3_rank  p4_suit  p4_rank  \n",
              "0       13        2        8  \n",
              "1        4        2        6  \n",
              "2        7        3       13  \n",
              "3        8        3       10  \n",
              "4       10        2        1  \n",
              "5       12        3        8  \n",
              "6        9        0        8  \n",
              "7        4        3        4  \n",
              "8       12        3       10  \n",
              "9        1        3        7  "
            ],
            "text/html": [
              "\n",
              "  <div id=\"df-26464ec5-093e-4961-affb-b19c1f30307f\">\n",
              "    <div class=\"colab-df-container\">\n",
              "      <div>\n",
              "<style scoped>\n",
              "    .dataframe tbody tr th:only-of-type {\n",
              "        vertical-align: middle;\n",
              "    }\n",
              "\n",
              "    .dataframe tbody tr th {\n",
              "        vertical-align: top;\n",
              "    }\n",
              "\n",
              "    .dataframe thead th {\n",
              "        text-align: right;\n",
              "    }\n",
              "</style>\n",
              "<table border=\"1\" class=\"dataframe\">\n",
              "  <thead>\n",
              "    <tr style=\"text-align: right;\">\n",
              "      <th></th>\n",
              "      <th>winning_player</th>\n",
              "      <th>trump</th>\n",
              "      <th>p1_suit</th>\n",
              "      <th>p1_rank</th>\n",
              "      <th>p2_suit</th>\n",
              "      <th>p2_rank</th>\n",
              "      <th>p3_suit</th>\n",
              "      <th>p3_rank</th>\n",
              "      <th>p4_suit</th>\n",
              "      <th>p4_rank</th>\n",
              "    </tr>\n",
              "  </thead>\n",
              "  <tbody>\n",
              "    <tr>\n",
              "      <th>0</th>\n",
              "      <td>3</td>\n",
              "      <td>3</td>\n",
              "      <td>0</td>\n",
              "      <td>7</td>\n",
              "      <td>1</td>\n",
              "      <td>3</td>\n",
              "      <td>0</td>\n",
              "      <td>13</td>\n",
              "      <td>2</td>\n",
              "      <td>8</td>\n",
              "    </tr>\n",
              "    <tr>\n",
              "      <th>1</th>\n",
              "      <td>4</td>\n",
              "      <td>3</td>\n",
              "      <td>2</td>\n",
              "      <td>5</td>\n",
              "      <td>0</td>\n",
              "      <td>5</td>\n",
              "      <td>2</td>\n",
              "      <td>4</td>\n",
              "      <td>2</td>\n",
              "      <td>6</td>\n",
              "    </tr>\n",
              "    <tr>\n",
              "      <th>2</th>\n",
              "      <td>4</td>\n",
              "      <td>3</td>\n",
              "      <td>2</td>\n",
              "      <td>11</td>\n",
              "      <td>3</td>\n",
              "      <td>1</td>\n",
              "      <td>3</td>\n",
              "      <td>7</td>\n",
              "      <td>3</td>\n",
              "      <td>13</td>\n",
              "    </tr>\n",
              "    <tr>\n",
              "      <th>3</th>\n",
              "      <td>1</td>\n",
              "      <td>1</td>\n",
              "      <td>0</td>\n",
              "      <td>12</td>\n",
              "      <td>3</td>\n",
              "      <td>4</td>\n",
              "      <td>2</td>\n",
              "      <td>8</td>\n",
              "      <td>3</td>\n",
              "      <td>10</td>\n",
              "    </tr>\n",
              "    <tr>\n",
              "      <th>4</th>\n",
              "      <td>3</td>\n",
              "      <td>0</td>\n",
              "      <td>1</td>\n",
              "      <td>13</td>\n",
              "      <td>3</td>\n",
              "      <td>12</td>\n",
              "      <td>0</td>\n",
              "      <td>10</td>\n",
              "      <td>2</td>\n",
              "      <td>1</td>\n",
              "    </tr>\n",
              "    <tr>\n",
              "      <th>5</th>\n",
              "      <td>4</td>\n",
              "      <td>3</td>\n",
              "      <td>0</td>\n",
              "      <td>13</td>\n",
              "      <td>0</td>\n",
              "      <td>9</td>\n",
              "      <td>1</td>\n",
              "      <td>12</td>\n",
              "      <td>3</td>\n",
              "      <td>8</td>\n",
              "    </tr>\n",
              "    <tr>\n",
              "      <th>6</th>\n",
              "      <td>3</td>\n",
              "      <td>2</td>\n",
              "      <td>3</td>\n",
              "      <td>11</td>\n",
              "      <td>1</td>\n",
              "      <td>7</td>\n",
              "      <td>2</td>\n",
              "      <td>9</td>\n",
              "      <td>0</td>\n",
              "      <td>8</td>\n",
              "    </tr>\n",
              "    <tr>\n",
              "      <th>7</th>\n",
              "      <td>1</td>\n",
              "      <td>0</td>\n",
              "      <td>3</td>\n",
              "      <td>11</td>\n",
              "      <td>3</td>\n",
              "      <td>10</td>\n",
              "      <td>2</td>\n",
              "      <td>4</td>\n",
              "      <td>3</td>\n",
              "      <td>4</td>\n",
              "    </tr>\n",
              "    <tr>\n",
              "      <th>8</th>\n",
              "      <td>1</td>\n",
              "      <td>2</td>\n",
              "      <td>0</td>\n",
              "      <td>8</td>\n",
              "      <td>1</td>\n",
              "      <td>6</td>\n",
              "      <td>1</td>\n",
              "      <td>12</td>\n",
              "      <td>3</td>\n",
              "      <td>10</td>\n",
              "    </tr>\n",
              "    <tr>\n",
              "      <th>9</th>\n",
              "      <td>1</td>\n",
              "      <td>1</td>\n",
              "      <td>2</td>\n",
              "      <td>5</td>\n",
              "      <td>0</td>\n",
              "      <td>13</td>\n",
              "      <td>2</td>\n",
              "      <td>1</td>\n",
              "      <td>3</td>\n",
              "      <td>7</td>\n",
              "    </tr>\n",
              "  </tbody>\n",
              "</table>\n",
              "</div>\n",
              "      <button class=\"colab-df-convert\" onclick=\"convertToInteractive('df-26464ec5-093e-4961-affb-b19c1f30307f')\"\n",
              "              title=\"Convert this dataframe to an interactive table.\"\n",
              "              style=\"display:none;\">\n",
              "        \n",
              "  <svg xmlns=\"http://www.w3.org/2000/svg\" height=\"24px\"viewBox=\"0 0 24 24\"\n",
              "       width=\"24px\">\n",
              "    <path d=\"M0 0h24v24H0V0z\" fill=\"none\"/>\n",
              "    <path d=\"M18.56 5.44l.94 2.06.94-2.06 2.06-.94-2.06-.94-.94-2.06-.94 2.06-2.06.94zm-11 1L8.5 8.5l.94-2.06 2.06-.94-2.06-.94L8.5 2.5l-.94 2.06-2.06.94zm10 10l.94 2.06.94-2.06 2.06-.94-2.06-.94-.94-2.06-.94 2.06-2.06.94z\"/><path d=\"M17.41 7.96l-1.37-1.37c-.4-.4-.92-.59-1.43-.59-.52 0-1.04.2-1.43.59L10.3 9.45l-7.72 7.72c-.78.78-.78 2.05 0 2.83L4 21.41c.39.39.9.59 1.41.59.51 0 1.02-.2 1.41-.59l7.78-7.78 2.81-2.81c.8-.78.8-2.07 0-2.86zM5.41 20L4 18.59l7.72-7.72 1.47 1.35L5.41 20z\"/>\n",
              "  </svg>\n",
              "      </button>\n",
              "      \n",
              "  <style>\n",
              "    .colab-df-container {\n",
              "      display:flex;\n",
              "      flex-wrap:wrap;\n",
              "      gap: 12px;\n",
              "    }\n",
              "\n",
              "    .colab-df-convert {\n",
              "      background-color: #E8F0FE;\n",
              "      border: none;\n",
              "      border-radius: 50%;\n",
              "      cursor: pointer;\n",
              "      display: none;\n",
              "      fill: #1967D2;\n",
              "      height: 32px;\n",
              "      padding: 0 0 0 0;\n",
              "      width: 32px;\n",
              "    }\n",
              "\n",
              "    .colab-df-convert:hover {\n",
              "      background-color: #E2EBFA;\n",
              "      box-shadow: 0px 1px 2px rgba(60, 64, 67, 0.3), 0px 1px 3px 1px rgba(60, 64, 67, 0.15);\n",
              "      fill: #174EA6;\n",
              "    }\n",
              "\n",
              "    [theme=dark] .colab-df-convert {\n",
              "      background-color: #3B4455;\n",
              "      fill: #D2E3FC;\n",
              "    }\n",
              "\n",
              "    [theme=dark] .colab-df-convert:hover {\n",
              "      background-color: #434B5C;\n",
              "      box-shadow: 0px 1px 3px 1px rgba(0, 0, 0, 0.15);\n",
              "      filter: drop-shadow(0px 1px 2px rgba(0, 0, 0, 0.3));\n",
              "      fill: #FFFFFF;\n",
              "    }\n",
              "  </style>\n",
              "\n",
              "      <script>\n",
              "        const buttonEl =\n",
              "          document.querySelector('#df-26464ec5-093e-4961-affb-b19c1f30307f button.colab-df-convert');\n",
              "        buttonEl.style.display =\n",
              "          google.colab.kernel.accessAllowed ? 'block' : 'none';\n",
              "\n",
              "        async function convertToInteractive(key) {\n",
              "          const element = document.querySelector('#df-26464ec5-093e-4961-affb-b19c1f30307f');\n",
              "          const dataTable =\n",
              "            await google.colab.kernel.invokeFunction('convertToInteractive',\n",
              "                                                     [key], {});\n",
              "          if (!dataTable) return;\n",
              "\n",
              "          const docLinkHtml = 'Like what you see? Visit the ' +\n",
              "            '<a target=\"_blank\" href=https://colab.research.google.com/notebooks/data_table.ipynb>data table notebook</a>'\n",
              "            + ' to learn more about interactive tables.';\n",
              "          element.innerHTML = '';\n",
              "          dataTable['output_type'] = 'display_data';\n",
              "          await google.colab.output.renderOutput(dataTable, element);\n",
              "          const docLink = document.createElement('div');\n",
              "          docLink.innerHTML = docLinkHtml;\n",
              "          element.appendChild(docLink);\n",
              "        }\n",
              "      </script>\n",
              "    </div>\n",
              "  </div>\n",
              "  "
            ]
          },
          "metadata": {},
          "execution_count": 8
        }
      ],
      "source": [
        "df.head(10)"
      ]
    },
    {
      "cell_type": "code",
      "execution_count": 9,
      "metadata": {
        "id": "TeYDlYkTTa_W"
      },
      "outputs": [],
      "source": [
        "# get subset of Player 1 suit not trump and player 1 card is a 2\n",
        "subset = df[(df.p1_suit != df.trump) & (df.p1_rank == 1)]"
      ]
    },
    {
      "cell_type": "code",
      "execution_count": 10,
      "metadata": {
        "id": "25nw_622Ta_W",
        "outputId": "5d6a2b04-c514-47bb-9aae-c9b7782d21c5",
        "colab": {
          "base_uri": "https://localhost:8080/"
        }
      },
      "outputs": [
        {
          "output_type": "execute_result",
          "data": {
            "text/plain": [
              "0.136986301369863"
            ]
          },
          "metadata": {},
          "execution_count": 10
        }
      ],
      "source": [
        "len(subset[subset.winning_player == 1]) / len(subset)"
      ]
    },
    {
      "cell_type": "code",
      "execution_count": 11,
      "metadata": {
        "id": "9nMwLA9vTa_W",
        "outputId": "744ff38f-7663-4e5c-818e-2ece4898fdc4",
        "colab": {
          "base_uri": "https://localhost:8080/"
        }
      },
      "outputs": [
        {
          "output_type": "execute_result",
          "data": {
            "text/plain": [
              "5913"
            ]
          },
          "metadata": {},
          "execution_count": 11
        }
      ],
      "source": [
        "len(subset)"
      ]
    },
    {
      "cell_type": "code",
      "execution_count": 12,
      "metadata": {
        "id": "DfmwkLw5Ta_W"
      },
      "outputs": [],
      "source": [
        "# helper functions to calculate win percentages of player 1 having a given card\n",
        "def calculate_win_percent(card):\n",
        "    subset = df[(df.p1_suit != df.trump) & (df.p1_rank == card)]\n",
        "    return len(subset[subset.winning_player == 1]) / len(subset)\n",
        "\n",
        "\n",
        "def calculate_win_percent_trump(card):\n",
        "    subset = df[(df.p1_suit == df.trump) & (df.p1_rank == card)]\n",
        "    return len(subset[subset.winning_player == 1]) / len(subset)"
      ]
    },
    {
      "cell_type": "code",
      "execution_count": 13,
      "metadata": {
        "id": "KUxNZSIQTa_W",
        "outputId": "dec3ae02-638e-4976-8859-d7c249827bce",
        "colab": {
          "base_uri": "https://localhost:8080/"
        }
      },
      "outputs": [
        {
          "output_type": "execute_result",
          "data": {
            "text/plain": [
              "0.3420871953312736"
            ]
          },
          "metadata": {},
          "execution_count": 13
        }
      ],
      "source": [
        "calculate_win_percent(10)"
      ]
    },
    {
      "cell_type": "code",
      "execution_count": 14,
      "metadata": {
        "id": "dn5K9WodTa_X",
        "outputId": "f6b0e416-5140-4607-f6e8-864a309592c8",
        "colab": {
          "base_uri": "https://localhost:8080/"
        }
      },
      "outputs": [
        {
          "output_type": "execute_result",
          "data": {
            "text/plain": [
              "0.45689181768259196"
            ]
          },
          "metadata": {},
          "execution_count": 14
        }
      ],
      "source": [
        "calculate_win_percent_trump(1)"
      ]
    },
    {
      "cell_type": "code",
      "execution_count": 15,
      "metadata": {
        "id": "oKV5HS_0Ta_X",
        "outputId": "49a6d359-79ae-425b-b7c7-a6aaf0afc906",
        "colab": {
          "base_uri": "https://localhost:8080/"
        }
      },
      "outputs": [
        {
          "output_type": "execute_result",
          "data": {
            "text/plain": [
              "0.49193548387096775"
            ]
          },
          "metadata": {},
          "execution_count": 15
        }
      ],
      "source": [
        "calculate_win_percent_trump(2)"
      ]
    },
    {
      "cell_type": "code",
      "execution_count": 16,
      "metadata": {
        "id": "Q43JmyXTTa_X"
      },
      "outputs": [],
      "source": [
        "y = [calculate_win_percent(card) for card in range(1,14)]\n",
        "yt = [calculate_win_percent_trump(card) for card in range(1,14)]"
      ]
    },
    {
      "cell_type": "code",
      "execution_count": 17,
      "metadata": {
        "id": "pBCRYTXlTa_X"
      },
      "outputs": [],
      "source": [
        "x = list(range(1,14))\n",
        "\n",
        "#y.extend(yt)"
      ]
    },
    {
      "cell_type": "code",
      "execution_count": 18,
      "metadata": {
        "id": "yFgHv27_Ta_X"
      },
      "outputs": [],
      "source": [
        "x = np.array(x)\n",
        "y = np.array(y)"
      ]
    },
    {
      "cell_type": "code",
      "execution_count": 19,
      "metadata": {
        "id": "QStdxo9lTa_X",
        "outputId": "9fccb2d0-a281-4d96-8c43-a6ce28a7e603",
        "colab": {
          "base_uri": "https://localhost:8080/",
          "height": 282
        }
      },
      "outputs": [
        {
          "output_type": "execute_result",
          "data": {
            "text/plain": [
              "<matplotlib.axes._subplots.AxesSubplot at 0x7f49c4b3fb90>"
            ]
          },
          "metadata": {},
          "execution_count": 19
        },
        {
          "output_type": "display_data",
          "data": {
            "text/plain": [
              "<Figure size 432x288 with 1 Axes>"
            ],
            "image/png": "[encoded data removed]"
          },
          "metadata": {
            "needs_background": "light"
          }
        }
      ],
      "source": [
        "sns.lineplot(x = x, y = y)"
      ]
    },
    {
      "cell_type": "code",
      "execution_count": 20,
      "metadata": {
        "id": "iGLHiYSHTa_Y"
      },
      "outputs": [],
      "source": [
        "yt = np.array(yt)"
      ]
    },
    {
      "cell_type": "code",
      "execution_count": 21,
      "metadata": {
        "id": "CwewHckPTa_Y",
        "outputId": "fff500f5-8024-4a98-9dd7-4f6c6e6ea5d4",
        "colab": {
          "base_uri": "https://localhost:8080/",
          "height": 282
        }
      },
      "outputs": [
        {
          "output_type": "execute_result",
          "data": {
            "text/plain": [
              "<matplotlib.axes._subplots.AxesSubplot at 0x7f49c3ec7a90>"
            ]
          },
          "metadata": {},
          "execution_count": 21
        },
        {
          "output_type": "display_data",
          "data": {
            "text/plain": [
              "<Figure size 432x288 with 1 Axes>"
            ],
            "image/png": "[encoded data removed]"
          },
          "metadata": {
            "needs_background": "light"
          }
        }
      ],
      "source": [
        "sns.lineplot(x=x, y=yt)"
      ]
    },
    {
      "cell_type": "code",
      "execution_count": 22,
      "metadata": {
        "id": "KNu69rZATa_Y"
      },
      "outputs": [],
      "source": [
        "y_all = list(y)\n",
        "y_all.extend(yt)"
      ]
    },
    {
      "cell_type": "code",
      "execution_count": 23,
      "metadata": {
        "id": "tVlAeedSTa_Y",
        "outputId": "3f9a9d1e-1e09-46fa-9286-380184fac754",
        "colab": {
          "base_uri": "https://localhost:8080/"
        }
      },
      "outputs": [
        {
          "output_type": "execute_result",
          "data": {
            "text/plain": [
              "26"
            ]
          },
          "metadata": {},
          "execution_count": 23
        }
      ],
      "source": [
        "len(y_all)"
      ]
    },
    {
      "cell_type": "code",
      "execution_count": 24,
      "metadata": {
        "id": "Inr-kLmGTa_Y",
        "outputId": "53aecbec-29f6-4ed6-d336-a39f06855bf6",
        "colab": {
          "base_uri": "https://localhost:8080/",
          "height": 282
        }
      },
      "outputs": [
        {
          "output_type": "execute_result",
          "data": {
            "text/plain": [
              "<matplotlib.axes._subplots.AxesSubplot at 0x7f49c3f241d0>"
            ]
          },
          "metadata": {},
          "execution_count": 24
        },
        {
          "output_type": "display_data",
          "data": {
            "text/plain": [
              "<Figure size 432x288 with 1 Axes>"
            ],
            "image/png": "[encoded data removed]"
          },
          "metadata": {
            "needs_background": "light"
          }
        }
      ],
      "source": [
        "# plot all cards win percent for player 1\n",
        "sns.lineplot(x = np.arange(26), y = y_all)"
      ]
    },
    {
      "cell_type": "code",
      "execution_count": 25,
      "metadata": {
        "id": "Szp9pg83Ta_Y",
        "outputId": "7ab665a4-a5d9-44db-e0fa-c668cb3ffd92",
        "colab": {
          "base_uri": "https://localhost:8080/"
        }
      },
      "outputs": [
        {
          "output_type": "execute_result",
          "data": {
            "text/plain": [
              "0.5467706013363028"
            ]
          },
          "metadata": {},
          "execution_count": 25
        }
      ],
      "source": [
        "calculate_win_percent_trump(3)"
      ]
    },
    {
      "cell_type": "code",
      "execution_count": 26,
      "metadata": {
        "id": "QGKLxF6VTa_Y",
        "outputId": "04712d72-c6c0-44ff-c252-f193533fb8ff",
        "colab": {
          "base_uri": "https://localhost:8080/"
        }
      },
      "outputs": [
        {
          "output_type": "execute_result",
          "data": {
            "text/plain": [
              "0.49193548387096775"
            ]
          },
          "metadata": {},
          "execution_count": 26
        }
      ],
      "source": [
        "calculate_win_percent_trump(2)"
      ]
    },
    {
      "cell_type": "code",
      "execution_count": 27,
      "metadata": {
        "id": "KqfdsHBZTa_Z",
        "outputId": "b1e1e66e-6e8d-4114-f32c-712dec045373",
        "colab": {
          "base_uri": "https://localhost:8080/"
        }
      },
      "outputs": [
        {
          "output_type": "execute_result",
          "data": {
            "text/plain": [
              "0.45689181768259196"
            ]
          },
          "metadata": {},
          "execution_count": 27
        }
      ],
      "source": [
        "calculate_win_percent_trump(1)"
      ]
    },
    {
      "cell_type": "code",
      "execution_count": 28,
      "metadata": {
        "id": "QXu2OhSgTa_a",
        "outputId": "178f0df9-604f-44b6-c9bd-c8d1eb73a978",
        "colab": {
          "base_uri": "https://localhost:8080/"
        }
      },
      "outputs": [
        {
          "output_type": "stream",
          "name": "stdout",
          "text": [
            "0.37204 +/- 0.0029958280281709103\n"
          ]
        }
      ],
      "source": [
        "# confidence interval on win percentage for player 1\n",
        "\n",
        "winp = wins/n\n",
        "print(str(winp) + \" +/- \" + str( 1.96 * np.sqrt(n*winp*(1-winp)) / n))"
      ]
    },
    {
      "cell_type": "code",
      "execution_count": 29,
      "metadata": {
        "id": "wUA8tyWTTa_a",
        "outputId": "4a3596b3-ac88-4519-f3ac-a5950f8f12fc",
        "colab": {
          "base_uri": "https://localhost:8080/"
        }
      },
      "outputs": [
        {
          "output_type": "execute_result",
          "data": {
            "text/plain": [
              "0.46627551020408164"
            ]
          },
          "metadata": {},
          "execution_count": 29
        }
      ],
      "source": [
        "# true probability of player 1 winning with 2 of trump\n",
        "# 52 card deck, player 1 has 2, trump card flipped, leaves 11 trumps out of 50 cards,\n",
        "# probility that any player has trump higher than 2\n",
        "# ==\n",
        "# 1 - probablity(players 2-4 have no trumps)\n",
        "# order matters, trump is chosen after cards dealt to players\n",
        "# so the below math does not work exactly\n",
        "# need probability(player 1 has 2 and trump chosen is player 1 suit and no other player has that suit)\n",
        "\n",
        "39/50 * 38/49 * 37/48"
      ]
    },
    {
      "cell_type": "markdown",
      "metadata": {
        "id": "y_318f1ZTa_a"
      },
      "source": [
        "- This probability calculation should be more complicated\n",
        "    - The trump suit is less likely to be a suit of any of the cards dealtf"
      ]
    },
    {
      "cell_type": "code",
      "execution_count": 30,
      "metadata": {
        "id": "YWGO7WtuTa_a",
        "outputId": "f843be8a-532f-4675-f287-530c6ffad93d",
        "colab": {
          "base_uri": "https://localhost:8080/"
        }
      },
      "outputs": [
        {
          "output_type": "execute_result",
          "data": {
            "text/plain": [
              "0.45689181768259196"
            ]
          },
          "metadata": {},
          "execution_count": 30
        }
      ],
      "source": [
        "p = calculate_win_percent_trump(1)\n",
        "p"
      ]
    },
    {
      "cell_type": "code",
      "execution_count": 31,
      "metadata": {
        "id": "UtGWb6ayTa_b",
        "outputId": "bfe8290d-c77d-4703-88cc-ac43c61048df",
        "colab": {
          "base_uri": "https://localhost:8080/"
        }
      },
      "outputs": [
        {
          "output_type": "stream",
          "name": "stdout",
          "text": [
            "0.4569 +/- 0.0039\n"
          ]
        }
      ],
      "source": [
        "print(str(round(p, 4)) + \" +/- \" + str(round(np.sqrt(n*p*(1-p)) * 2.5 / n, 4)))"
      ]
    },
    {
      "cell_type": "code",
      "execution_count": null,
      "metadata": {
        "id": "Ze8ZCsNITa_b"
      },
      "outputs": [],
      "source": [
        ""
      ]
    }
  ],
  "metadata": {
    "kernelspec": {
      "display_name": "Python 3",
      "language": "python",
      "name": "python3"
    },
    "language_info": {
      "codemirror_mode": {
        "name": "ipython",
        "version": 3
      },
      "file_extension": ".py",
      "mimetype": "text/x-python",
      "name": "python",
      "nbconvert_exporter": "python",
      "pygments_lexer": "ipython3",
      "version": "3.8.5"
    },
    "colab": {
      "name": "oh-hell-simulation.ipynb",
      "provenance": [],
      "include_colab_link": true
    }
  },
  "nbformat": 4,
  "nbformat_minor": 0
}