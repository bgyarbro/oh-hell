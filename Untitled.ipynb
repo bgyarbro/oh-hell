{
 "cells": [
  {
   "cell_type": "code",
   "execution_count": 1,
   "metadata": {},
   "outputs": [],
   "source": [
    "from deck_of_cards import deck_of_cards\n",
    "import pandas as pd\n",
    "import numpy as np\n",
    "import seaborn as sns\n",
    "%matplotlib inline"
   ]
  },
  {
   "cell_type": "code",
   "execution_count": 2,
   "metadata": {},
   "outputs": [],
   "source": [
    "winning_player = []\n",
    "trump = []\n",
    "p1_suit = []\n",
    "p1_rank = []\n",
    "p2_suit = []\n",
    "p2_rank = []\n",
    "p3_suit = []\n",
    "p3_rank = []\n",
    "p4_suit = []\n",
    "p4_rank = []"
   ]
  },
  {
   "cell_type": "code",
   "execution_count": 3,
   "metadata": {},
   "outputs": [],
   "source": [
    "def play_round():\n",
    "    deck_obj = deck_of_cards.DeckOfCards()\n",
    "    p1_card = deck_obj.give_random_card()\n",
    "    p2_card = deck_obj.give_random_card()\n",
    "    p3_card = deck_obj.give_random_card()\n",
    "    p4_card = deck_obj.give_random_card()\n",
    "    trump_card = deck_obj.give_random_card()\n",
    "    trump_suit = trump_card.suit\n",
    "    \n",
    "    cards = [p1_card, p2_card, p3_card, p4_card]\n",
    "    suits = [card.suit for card in cards]\n",
    "    ranks = [card.rank for card in cards]\n",
    "    df = pd.DataFrame({'player':['p1', 'p2', 'p3', 'p4'],\n",
    "                           'suit':suits,\n",
    "                           'ranks':ranks})\n",
    "\n",
    "    df['trump'] = trump_suit\n",
    "\n",
    "\n",
    "    if (df.suit == df.trump).sum() != 0:\n",
    "        trump_players = df.loc[df.suit == trump_suit,]\n",
    "        winner = trump_players.ranks.idxmax() + 1\n",
    "    else:\n",
    "        p1_suit_players = df.loc[df.suit == p1_card.suit,]\n",
    "        winner = p1_suit_players.ranks.idxmax() + 1\n",
    "\n",
    "        \n",
    "    winning_player.append(winner)\n",
    "    trump.append(trump_suit)\n",
    "    p1_suit.append(suits[0])\n",
    "    p1_rank.append(ranks[0])\n",
    "    p2_suit.append(suits[1])\n",
    "    p2_rank.append(ranks[1])\n",
    "    p3_suit.append(suits[2])\n",
    "    p3_rank.append(ranks[2])\n",
    "    p4_suit.append(suits[3])\n",
    "    p4_rank.append(ranks[3])\n",
    "    \n",
    "    if winner == 1:\n",
    "        return 1\n",
    "    else:\n",
    "        return 0"
   ]
  },
  {
   "cell_type": "code",
   "execution_count": 4,
   "metadata": {},
   "outputs": [
    {
     "name": "stdout",
     "output_type": "stream",
     "text": [
      "1.0\n",
      "2.0\n",
      "3.0\n",
      "4.0\n",
      "5.0\n",
      "6.0\n",
      "7.0\n",
      "8.0\n",
      "9.0\n",
      "10.0\n",
      "11.0\n",
      "12.0\n",
      "13.0\n",
      "14.0\n",
      "15.0\n",
      "16.0\n",
      "17.0\n",
      "18.0\n",
      "19.0\n",
      "20.0\n",
      "21.0\n",
      "22.0\n",
      "23.0\n",
      "24.0\n",
      "25.0\n",
      "26.0\n",
      "27.0\n",
      "28.0\n",
      "29.0\n",
      "30.0\n",
      "31.0\n",
      "32.0\n",
      "33.0\n",
      "34.0\n",
      "35.0\n",
      "36.0\n",
      "37.0\n",
      "38.0\n",
      "39.0\n",
      "40.0\n",
      "41.0\n",
      "42.0\n",
      "43.0\n",
      "44.0\n",
      "45.0\n",
      "46.0\n",
      "47.0\n",
      "48.0\n",
      "49.0\n",
      "50.0\n",
      "51.0\n",
      "52.0\n",
      "53.0\n",
      "54.0\n",
      "55.0\n",
      "56.0\n",
      "57.0\n",
      "58.0\n",
      "59.0\n",
      "60.0\n",
      "61.0\n",
      "62.0\n",
      "63.0\n",
      "64.0\n",
      "65.0\n",
      "66.0\n",
      "67.0\n",
      "68.0\n",
      "69.0\n",
      "70.0\n",
      "71.0\n",
      "72.0\n",
      "73.0\n",
      "74.0\n",
      "75.0\n",
      "76.0\n",
      "77.0\n",
      "78.0\n",
      "79.0\n",
      "80.0\n",
      "81.0\n",
      "82.0\n",
      "83.0\n",
      "84.0\n",
      "85.0\n",
      "86.0\n",
      "87.0\n",
      "88.0\n",
      "89.0\n",
      "90.0\n",
      "91.0\n",
      "92.0\n",
      "93.0\n",
      "94.0\n",
      "95.0\n",
      "96.0\n",
      "97.0\n",
      "98.0\n",
      "99.0\n",
      "100.0\n",
      "0.36812\n"
     ]
    }
   ],
   "source": [
    "i = 0\n",
    "wins = 0\n",
    "while i < 100000:\n",
    "    wins += play_round()\n",
    "    i += 1\n",
    "    if i % 1000 == 0:\n",
    "        print(i/1000)\n",
    "print(wins / 100000)"
   ]
  },
  {
   "cell_type": "code",
   "execution_count": 5,
   "metadata": {},
   "outputs": [],
   "source": [
    "df = pd.DataFrame({\n",
    "    'winning_player':winning_player,\n",
    "    'trump':trump,\n",
    "    'p1_suit':p1_suit,\n",
    "    'p1_rank':p1_rank,\n",
    "    'p2_suit':p2_suit,\n",
    "    'p2_rank':p2_rank,\n",
    "    'p3_suit':p3_suit,\n",
    "    'p3_rank':p3_rank,\n",
    "    'p4_suit':p4_suit,\n",
    "    'p4_rank':p4_rank,\n",
    "})"
   ]
  },
  {
   "cell_type": "code",
   "execution_count": 6,
   "metadata": {},
   "outputs": [
    {
     "data": {
      "text/html": [
       "<div>\n",
       "<style scoped>\n",
       "    .dataframe tbody tr th:only-of-type {\n",
       "        vertical-align: middle;\n",
       "    }\n",
       "\n",
       "    .dataframe tbody tr th {\n",
       "        vertical-align: top;\n",
       "    }\n",
       "\n",
       "    .dataframe thead th {\n",
       "        text-align: right;\n",
       "    }\n",
       "</style>\n",
       "<table border=\"1\" class=\"dataframe\">\n",
       "  <thead>\n",
       "    <tr style=\"text-align: right;\">\n",
       "      <th></th>\n",
       "      <th>winning_player</th>\n",
       "      <th>trump</th>\n",
       "      <th>p1_suit</th>\n",
       "      <th>p1_rank</th>\n",
       "      <th>p2_suit</th>\n",
       "      <th>p2_rank</th>\n",
       "      <th>p3_suit</th>\n",
       "      <th>p3_rank</th>\n",
       "      <th>p4_suit</th>\n",
       "      <th>p4_rank</th>\n",
       "    </tr>\n",
       "  </thead>\n",
       "  <tbody>\n",
       "    <tr>\n",
       "      <th>0</th>\n",
       "      <td>1</td>\n",
       "      <td>2</td>\n",
       "      <td>2</td>\n",
       "      <td>4</td>\n",
       "      <td>0</td>\n",
       "      <td>7</td>\n",
       "      <td>1</td>\n",
       "      <td>7</td>\n",
       "      <td>1</td>\n",
       "      <td>12</td>\n",
       "    </tr>\n",
       "    <tr>\n",
       "      <th>1</th>\n",
       "      <td>1</td>\n",
       "      <td>1</td>\n",
       "      <td>0</td>\n",
       "      <td>8</td>\n",
       "      <td>3</td>\n",
       "      <td>4</td>\n",
       "      <td>3</td>\n",
       "      <td>1</td>\n",
       "      <td>2</td>\n",
       "      <td>3</td>\n",
       "    </tr>\n",
       "    <tr>\n",
       "      <th>2</th>\n",
       "      <td>1</td>\n",
       "      <td>1</td>\n",
       "      <td>2</td>\n",
       "      <td>13</td>\n",
       "      <td>3</td>\n",
       "      <td>3</td>\n",
       "      <td>2</td>\n",
       "      <td>1</td>\n",
       "      <td>3</td>\n",
       "      <td>4</td>\n",
       "    </tr>\n",
       "    <tr>\n",
       "      <th>3</th>\n",
       "      <td>4</td>\n",
       "      <td>0</td>\n",
       "      <td>1</td>\n",
       "      <td>11</td>\n",
       "      <td>1</td>\n",
       "      <td>10</td>\n",
       "      <td>2</td>\n",
       "      <td>9</td>\n",
       "      <td>0</td>\n",
       "      <td>7</td>\n",
       "    </tr>\n",
       "    <tr>\n",
       "      <th>4</th>\n",
       "      <td>3</td>\n",
       "      <td>1</td>\n",
       "      <td>1</td>\n",
       "      <td>12</td>\n",
       "      <td>1</td>\n",
       "      <td>11</td>\n",
       "      <td>1</td>\n",
       "      <td>13</td>\n",
       "      <td>2</td>\n",
       "      <td>7</td>\n",
       "    </tr>\n",
       "  </tbody>\n",
       "</table>\n",
       "</div>"
      ],
      "text/plain": [
       "   winning_player  trump  p1_suit  p1_rank  p2_suit  p2_rank  p3_suit  \\\n",
       "0               1      2        2        4        0        7        1   \n",
       "1               1      1        0        8        3        4        3   \n",
       "2               1      1        2       13        3        3        2   \n",
       "3               4      0        1       11        1       10        2   \n",
       "4               3      1        1       12        1       11        1   \n",
       "\n",
       "   p3_rank  p4_suit  p4_rank  \n",
       "0        7        1       12  \n",
       "1        1        2        3  \n",
       "2        1        3        4  \n",
       "3        9        0        7  \n",
       "4       13        2        7  "
      ]
     },
     "execution_count": 6,
     "metadata": {},
     "output_type": "execute_result"
    }
   ],
   "source": [
    "df.head()"
   ]
  },
  {
   "cell_type": "code",
   "execution_count": 7,
   "metadata": {},
   "outputs": [],
   "source": [
    "subset = df.loc[(df.p1_suit != df.trump) & (df.p1_rank == 1),]"
   ]
  },
  {
   "cell_type": "code",
   "execution_count": 8,
   "metadata": {},
   "outputs": [
    {
     "data": {
      "text/plain": [
       "0.12908137371003214"
      ]
     },
     "execution_count": 8,
     "metadata": {},
     "output_type": "execute_result"
    }
   ],
   "source": [
    "len(subset.loc[subset.winning_player == 1,]) / len(subset)"
   ]
  },
  {
   "cell_type": "code",
   "execution_count": 9,
   "metadata": {},
   "outputs": [
    {
     "data": {
      "text/plain": [
       "5911"
      ]
     },
     "execution_count": 9,
     "metadata": {},
     "output_type": "execute_result"
    }
   ],
   "source": [
    "len(subset)"
   ]
  },
  {
   "cell_type": "code",
   "execution_count": 10,
   "metadata": {},
   "outputs": [],
   "source": [
    "def calculate_win_percent(card):\n",
    "    subset = df.loc[(df.p1_suit != df.trump) & (df.p1_rank == card),]\n",
    "    return len(subset.loc[subset.winning_player == 1,]) / len(subset)\n",
    "def calculate_win_percent_trump(card):\n",
    "    subset = df.loc[(df.p1_suit == df.trump) & (df.p1_rank == card),]\n",
    "    return len(subset.loc[subset.winning_player == 1,]) / len(subset)"
   ]
  },
  {
   "cell_type": "code",
   "execution_count": 20,
   "metadata": {},
   "outputs": [
    {
     "data": {
      "text/plain": [
       "0.3304742684157417"
      ]
     },
     "execution_count": 20,
     "metadata": {},
     "output_type": "execute_result"
    }
   ],
   "source": [
    "calculate_win_percent(10)"
   ]
  },
  {
   "cell_type": "code",
   "execution_count": 19,
   "metadata": {},
   "outputs": [
    {
     "data": {
      "text/plain": [
       "0.6454095656954371"
      ]
     },
     "execution_count": 19,
     "metadata": {},
     "output_type": "execute_result"
    }
   ],
   "source": [
    "calculate_win_percent_trump(6)"
   ]
  },
  {
   "cell_type": "code",
   "execution_count": 13,
   "metadata": {},
   "outputs": [],
   "source": [
    "y = [calculate_win_percent(card) for card in range(1,14)]\n",
    "#yt = [calculate_win_percent_trump(card) for card in range(1,14)]"
   ]
  },
  {
   "cell_type": "code",
   "execution_count": 14,
   "metadata": {},
   "outputs": [],
   "source": [
    "x = list(range(1,14))\n",
    "\n",
    "#y.extend(yt)"
   ]
  },
  {
   "cell_type": "code",
   "execution_count": 15,
   "metadata": {},
   "outputs": [],
   "source": [
    "x = np.array(x)\n",
    "y = np.array(y)"
   ]
  },
  {
   "cell_type": "code",
   "execution_count": null,
   "metadata": {},
   "outputs": [],
   "source": []
  },
  {
   "cell_type": "code",
   "execution_count": 16,
   "metadata": {},
   "outputs": [
    {
     "data": {
      "text/plain": [
       "<AxesSubplot:>"
      ]
     },
     "execution_count": 16,
     "metadata": {},
     "output_type": "execute_result"
    },
    {
     "data": {
      "image/png": "[encoded data removed]",
      "text/plain": [
       "<Figure size 432x288 with 1 Axes>"
      ]
     },
     "metadata": {
      "needs_background": "light"
     },
     "output_type": "display_data"
    }
   ],
   "source": [
    "sns.lineplot(x = x, y = y)"
   ]
  },
  {
   "cell_type": "code",
   "execution_count": null,
   "metadata": {},
   "outputs": [],
   "source": [
    "y"
   ]
  },
  {
   "cell_type": "code",
   "execution_count": null,
   "metadata": {},
   "outputs": [],
   "source": []
  }
 ],
 "metadata": {
  "kernelspec": {
   "display_name": "Python 3",
   "language": "python",
   "name": "python3"
  },
  "language_info": {
   "codemirror_mode": {
    "name": "ipython",
    "version": 3
   },
   "file_extension": ".py",
   "mimetype": "text/x-python",
   "name": "python",
   "nbconvert_exporter": "python",
   "pygments_lexer": "ipython3",
   "version": "3.8.5"
  }
 },
 "nbformat": 4,
 "nbformat_minor": 4
}
